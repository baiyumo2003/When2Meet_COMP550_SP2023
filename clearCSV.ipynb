{
 "cells": [
  {
   "cell_type": "code",
   "execution_count": 46,
   "metadata": {},
   "outputs": [],
   "source": [
    "import pandas as pd\n",
    "\n",
    "# read CSV file\n",
    "data = pd.read_csv('Book1.csv')\n",
    "\n",
    "# filter out rows with one other value and all other 0 values\n",
    "data = data[(data != 0).sum(axis=1) > 1]\n",
    "\n",
    "# save remaining rows to new CSV file\n",
    "data.to_csv('filtered_data.csv', index=False)\n"
   ]
  }
 ],
 "metadata": {
  "kernelspec": {
   "display_name": "base",
   "language": "python",
   "name": "python3"
  },
  "language_info": {
   "codemirror_mode": {
    "name": "ipython",
    "version": 3
   },
   "file_extension": ".py",
   "mimetype": "text/x-python",
   "name": "python",
   "nbconvert_exporter": "python",
   "pygments_lexer": "ipython3",
   "version": "3.9.12"
  },
  "orig_nbformat": 4,
  "vscode": {
   "interpreter": {
    "hash": "81b3a59d8f763c3ba2502925abc36cc5d453060b12cf4b11c880761c8752d4d6"
   }
  }
 },
 "nbformat": 4,
 "nbformat_minor": 2
}
